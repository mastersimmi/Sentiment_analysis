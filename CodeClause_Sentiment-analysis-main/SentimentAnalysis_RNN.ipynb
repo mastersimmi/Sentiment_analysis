{
  "cells": [
    {
      "cell_type": "markdown",
      "metadata": {
        "id": "efyTtfc_oJkh"
      },
      "source": [
        "## 1. Adding imports & installing neccessay packages ##"
      ]
    },
    {
      "cell_type": "code",
      "execution_count": null,
      "metadata": {
        "id": "GaVIBWlyoKz3",
        "colab": {
          "base_uri": "https://localhost:8080/"
        },
        "outputId": "1fbc85d8-fc75-4df9-dd99-b9d2968fcf46"
      },
      "outputs": [
        {
          "output_type": "stream",
          "name": "stdout",
          "text": [
            "Mounted at /content/gdrive\n"
          ]
        }
      ],
      "source": [
        "### run this if using google colab to mount google drive as local storage\n",
        "\n",
        "from google.colab import drive\n",
        "import os\n",
        "drive.mount('/content/gdrive')\n",
        "\n",
        "repo_path = '/content/gdrive/My Drive/colab/NLP-Bootcamp/'"
      ]
    },
    {
      "cell_type": "code",
      "execution_count": null,
      "metadata": {
        "id": "sdBgdze84r8s"
      },
      "outputs": [],
      "source": [
        "import pandas as pd\n",
        "import collections\n",
        "%matplotlib inline\n",
        "\n",
        "# Import modules to calculate accuracy and confusion matrix\n",
        "from sklearn.metrics import confusion_matrix, accuracy_score"
      ]
    },
    {
      "cell_type": "markdown",
      "metadata": {
        "id": "YLttTMckfNa_"
      },
      "source": [
        "## 2. Loading Data ##"
      ]
    },
    {
      "cell_type": "code",
      "execution_count": null,
      "metadata": {
        "id": "w9EA4jMv4ywO",
        "colab": {
          "base_uri": "https://localhost:8080/",
          "height": 206
        },
        "outputId": "4590a838-52eb-45f6-b056-bb8685147946"
      },
      "outputs": [
        {
          "output_type": "execute_result",
          "data": {
            "text/plain": [
              "  target         ids             user  \\\n",
              "0      p  1978186076   ceruleanbreeze   \n",
              "1      p  1994697891  enthusiasticjen   \n",
              "2      p  2191885992      LifeRemixed   \n",
              "3      p  1753662211        lovemandy   \n",
              "4      p  2177442789      _LOVELYmanu   \n",
              "\n",
              "                                                text  \n",
              "0  @nocturnalie Anyway, and now Abby and I share ...  \n",
              "1  @JoeGigantino Few times I'm trying to leave co...  \n",
              "2  @AngieGriffin Good Morning Angie  I'll be in t...  \n",
              "3  had a good day driving up mountains, visiting ...  \n",
              "4          downloading some songs  i love lady GaGa.  "
            ],
            "text/html": [
              "\n",
              "  <div id=\"df-07dd2b8e-21c9-4775-81ac-02f7205f2d38\">\n",
              "    <div class=\"colab-df-container\">\n",
              "      <div>\n",
              "<style scoped>\n",
              "    .dataframe tbody tr th:only-of-type {\n",
              "        vertical-align: middle;\n",
              "    }\n",
              "\n",
              "    .dataframe tbody tr th {\n",
              "        vertical-align: top;\n",
              "    }\n",
              "\n",
              "    .dataframe thead th {\n",
              "        text-align: right;\n",
              "    }\n",
              "</style>\n",
              "<table border=\"1\" class=\"dataframe\">\n",
              "  <thead>\n",
              "    <tr style=\"text-align: right;\">\n",
              "      <th></th>\n",
              "      <th>target</th>\n",
              "      <th>ids</th>\n",
              "      <th>user</th>\n",
              "      <th>text</th>\n",
              "    </tr>\n",
              "  </thead>\n",
              "  <tbody>\n",
              "    <tr>\n",
              "      <th>0</th>\n",
              "      <td>p</td>\n",
              "      <td>1978186076</td>\n",
              "      <td>ceruleanbreeze</td>\n",
              "      <td>@nocturnalie Anyway, and now Abby and I share ...</td>\n",
              "    </tr>\n",
              "    <tr>\n",
              "      <th>1</th>\n",
              "      <td>p</td>\n",
              "      <td>1994697891</td>\n",
              "      <td>enthusiasticjen</td>\n",
              "      <td>@JoeGigantino Few times I'm trying to leave co...</td>\n",
              "    </tr>\n",
              "    <tr>\n",
              "      <th>2</th>\n",
              "      <td>p</td>\n",
              "      <td>2191885992</td>\n",
              "      <td>LifeRemixed</td>\n",
              "      <td>@AngieGriffin Good Morning Angie  I'll be in t...</td>\n",
              "    </tr>\n",
              "    <tr>\n",
              "      <th>3</th>\n",
              "      <td>p</td>\n",
              "      <td>1753662211</td>\n",
              "      <td>lovemandy</td>\n",
              "      <td>had a good day driving up mountains, visiting ...</td>\n",
              "    </tr>\n",
              "    <tr>\n",
              "      <th>4</th>\n",
              "      <td>p</td>\n",
              "      <td>2177442789</td>\n",
              "      <td>_LOVELYmanu</td>\n",
              "      <td>downloading some songs  i love lady GaGa.</td>\n",
              "    </tr>\n",
              "  </tbody>\n",
              "</table>\n",
              "</div>\n",
              "      <button class=\"colab-df-convert\" onclick=\"convertToInteractive('df-07dd2b8e-21c9-4775-81ac-02f7205f2d38')\"\n",
              "              title=\"Convert this dataframe to an interactive table.\"\n",
              "              style=\"display:none;\">\n",
              "        \n",
              "  <svg xmlns=\"http://www.w3.org/2000/svg\" height=\"24px\"viewBox=\"0 0 24 24\"\n",
              "       width=\"24px\">\n",
              "    <path d=\"M0 0h24v24H0V0z\" fill=\"none\"/>\n",
              "    <path d=\"M18.56 5.44l.94 2.06.94-2.06 2.06-.94-2.06-.94-.94-2.06-.94 2.06-2.06.94zm-11 1L8.5 8.5l.94-2.06 2.06-.94-2.06-.94L8.5 2.5l-.94 2.06-2.06.94zm10 10l.94 2.06.94-2.06 2.06-.94-2.06-.94-.94-2.06-.94 2.06-2.06.94z\"/><path d=\"M17.41 7.96l-1.37-1.37c-.4-.4-.92-.59-1.43-.59-.52 0-1.04.2-1.43.59L10.3 9.45l-7.72 7.72c-.78.78-.78 2.05 0 2.83L4 21.41c.39.39.9.59 1.41.59.51 0 1.02-.2 1.41-.59l7.78-7.78 2.81-2.81c.8-.78.8-2.07 0-2.86zM5.41 20L4 18.59l7.72-7.72 1.47 1.35L5.41 20z\"/>\n",
              "  </svg>\n",
              "      </button>\n",
              "      \n",
              "  <style>\n",
              "    .colab-df-container {\n",
              "      display:flex;\n",
              "      flex-wrap:wrap;\n",
              "      gap: 12px;\n",
              "    }\n",
              "\n",
              "    .colab-df-convert {\n",
              "      background-color: #E8F0FE;\n",
              "      border: none;\n",
              "      border-radius: 50%;\n",
              "      cursor: pointer;\n",
              "      display: none;\n",
              "      fill: #1967D2;\n",
              "      height: 32px;\n",
              "      padding: 0 0 0 0;\n",
              "      width: 32px;\n",
              "    }\n",
              "\n",
              "    .colab-df-convert:hover {\n",
              "      background-color: #E2EBFA;\n",
              "      box-shadow: 0px 1px 2px rgba(60, 64, 67, 0.3), 0px 1px 3px 1px rgba(60, 64, 67, 0.15);\n",
              "      fill: #174EA6;\n",
              "    }\n",
              "\n",
              "    [theme=dark] .colab-df-convert {\n",
              "      background-color: #3B4455;\n",
              "      fill: #D2E3FC;\n",
              "    }\n",
              "\n",
              "    [theme=dark] .colab-df-convert:hover {\n",
              "      background-color: #434B5C;\n",
              "      box-shadow: 0px 1px 3px 1px rgba(0, 0, 0, 0.15);\n",
              "      filter: drop-shadow(0px 1px 2px rgba(0, 0, 0, 0.3));\n",
              "      fill: #FFFFFF;\n",
              "    }\n",
              "  </style>\n",
              "\n",
              "      <script>\n",
              "        const buttonEl =\n",
              "          document.querySelector('#df-07dd2b8e-21c9-4775-81ac-02f7205f2d38 button.colab-df-convert');\n",
              "        buttonEl.style.display =\n",
              "          google.colab.kernel.accessAllowed ? 'block' : 'none';\n",
              "\n",
              "        async function convertToInteractive(key) {\n",
              "          const element = document.querySelector('#df-07dd2b8e-21c9-4775-81ac-02f7205f2d38');\n",
              "          const dataTable =\n",
              "            await google.colab.kernel.invokeFunction('convertToInteractive',\n",
              "                                                     [key], {});\n",
              "          if (!dataTable) return;\n",
              "\n",
              "          const docLinkHtml = 'Like what you see? Visit the ' +\n",
              "            '<a target=\"_blank\" href=https://colab.research.google.com/notebooks/data_table.ipynb>data table notebook</a>'\n",
              "            + ' to learn more about interactive tables.';\n",
              "          element.innerHTML = '';\n",
              "          dataTable['output_type'] = 'display_data';\n",
              "          await google.colab.output.renderOutput(dataTable, element);\n",
              "          const docLink = document.createElement('div');\n",
              "          docLink.innerHTML = docLinkHtml;\n",
              "          element.appendChild(docLink);\n",
              "        }\n",
              "      </script>\n",
              "    </div>\n",
              "  </div>\n",
              "  "
            ]
          },
          "metadata": {},
          "execution_count": 3
        }
      ],
      "source": [
        "### run below 2 lines of code for setting train & test data path on google colab\n",
        "trainData = os.path.join(repo_path, 'data/sentiment140_160k_tweets_train.csv')\n",
        "testData = os.path.join(repo_path, 'data/sentiment140_test.csv')\n",
        "\n",
        "### run below 3 lines of code for setting train & test data path on local machine\n",
        "'''\n",
        "DATA = './data/'\n",
        "trainData = DATA + 'sentiment140_160k_tweets_train.csv'\n",
        "testData =  DATA + 'sentiment140_test.csv'\n",
        "'''\n",
        "\n",
        "train = pd.read_csv(trainData)\n",
        "test = pd.read_csv(testData)\n",
        "\n",
        "train.head()"
      ]
    },
    {
      "cell_type": "markdown",
      "metadata": {
        "id": "DE0NVFR9s4o4"
      },
      "source": [
        "Looking at distribution of *'positives'* & *'negatives'* samples in train dataset "
      ]
    },
    {
      "cell_type": "code",
      "execution_count": null,
      "metadata": {
        "id": "MF2-MSXFoJkr",
        "colab": {
          "base_uri": "https://localhost:8080/"
        },
        "outputId": "1ba63640-3a77-48e5-f620-11b8260ada21"
      },
      "outputs": [
        {
          "output_type": "execute_result",
          "data": {
            "text/plain": [
              "Counter({'p': 80000, 'n': 79985})"
            ]
          },
          "metadata": {},
          "execution_count": 4
        }
      ],
      "source": [
        "collections.Counter(train['target'])"
      ]
    },
    {
      "cell_type": "code",
      "execution_count": null,
      "metadata": {
        "id": "vwyLXx_moJks",
        "colab": {
          "base_uri": "https://localhost:8080/",
          "height": 293
        },
        "outputId": "aceb2fa0-4236-46ab-a950-d6eb656c9cbb"
      },
      "outputs": [
        {
          "output_type": "execute_result",
          "data": {
            "text/plain": [
              "<matplotlib.axes._subplots.AxesSubplot at 0x7ff720070f50>"
            ]
          },
          "metadata": {},
          "execution_count": 5
        },
        {
          "output_type": "display_data",
          "data": {
            "text/plain": [
              "<Figure size 432x288 with 1 Axes>"
            ],
            "image/png": "[encoded data removed]"
          },
          "metadata": {
            "needs_background": "light"
          }
        }
      ],
      "source": [
        "train.groupby('target').size().plot(kind='bar')"
      ]
    },
    {
      "cell_type": "markdown",
      "metadata": {
        "id": "xyHV7gCCxCpO"
      },
      "source": [
        "We will find that it is a relatively well-balanced dataset"
      ]
    },
    {
      "cell_type": "markdown",
      "metadata": {
        "id": "5RK3QPUnbUFq"
      },
      "source": [
        "## 3. Data (Text) Preprocessing ##"
      ]
    },
    {
      "cell_type": "code",
      "execution_count": null,
      "metadata": {
        "id": "N_p8SQxQMKrq"
      },
      "outputs": [],
      "source": [
        "### mapping a dictionary of apostrophe words\n",
        "\n",
        "appos = {\n",
        "\"aren't\" : \"are not\",\n",
        "\"can't\" : \"cannot\",\n",
        "\"cant\" : \"cannot\",\n",
        "\"couldn't\" : \"could not\",\n",
        "\"didn't\" : \"did not\",\n",
        "\"doesn't\" : \"does not\",\n",
        "\"don't\" : \"do not\",\n",
        "\"hadn't\" : \"had not\",\n",
        "\"hasn't\" : \"has not\",\n",
        "\"haven't\" : \"have not\",\n",
        "\"he'd\" : \"he would\",\n",
        "\"he'll\" : \"he will\",\n",
        "\"he's\" : \"he is\",\n",
        "\"i'd\" : \"I would\",\n",
        "\"i'd\" : \"I had\",\n",
        "\"i'll\" : \"I will\",\n",
        "\"i'm\" : \"I am\",\n",
        "\"im\" : \"I am\",\n",
        "\"isn't\" : \"is not\",\n",
        "\"it's\" : \"it is\",\n",
        "\"it'll\":\"it will\",\n",
        "\"i've\" : \"I have\",\n",
        "\"let's\" : \"let us\",\n",
        "\"mightn't\" : \"might not\",\n",
        "\"mustn't\" : \"must not\",\n",
        "\"shan't\" : \"shall not\",\n",
        "\"she'd\" : \"she would\",\n",
        "\"she'll\" : \"she will\",\n",
        "\"she's\" : \"she is\",\n",
        "\"shouldn't\" : \"should not\",\n",
        "\"that's\" : \"that is\",\n",
        "\"there's\" : \"there is\",\n",
        "\"they'd\" : \"they would\",\n",
        "\"they'll\" : \"they will\",\n",
        "\"they're\" : \"they are\",\n",
        "\"they've\" : \"they have\",\n",
        "\"we'd\" : \"we would\",\n",
        "\"we're\" : \"we are\",\n",
        "\"weren't\" : \"were not\",\n",
        "\"we've\" : \"we have\",\n",
        "\"what'll\" : \"what will\",\n",
        "\"what're\" : \"what are\",\n",
        "\"what's\" : \"what is\",\n",
        "\"what've\" : \"what have\",\n",
        "\"where's\" : \"where is\",\n",
        "\"who'd\" : \"who would\",\n",
        "\"who'll\" : \"who will\",\n",
        "\"who're\" : \"who are\",\n",
        "\"who's\" : \"who is\",\n",
        "\"who've\" : \"who have\",\n",
        "\"won't\" : \"will not\",\n",
        "\"wouldn't\" : \"would not\",\n",
        "\"you'd\" : \"you would\",\n",
        "\"you'll\" : \"you will\",\n",
        "\"you're\" : \"you are\",\n",
        "\"you've\" : \"you have\",\n",
        "\"'re\": \" are\",\n",
        "\"wasn't\": \"was not\",\n",
        "\"we'll\":\" will\",\n",
        "\"didn't\": \"did not\",\n",
        "\"gg\" : \"going\"\n",
        "}"
      ]
    },
    {
      "cell_type": "code",
      "execution_count": null,
      "metadata": {
        "id": "7IbqS4m-4-EX",
        "colab": {
          "base_uri": "https://localhost:8080/",
          "height": 206
        },
        "outputId": "38904185-6b96-49f0-a68c-05012f58de30"
      },
      "outputs": [
        {
          "output_type": "execute_result",
          "data": {
            "text/plain": [
              "  target         ids             user  \\\n",
              "0      p  1978186076   ceruleanbreeze   \n",
              "1      p  1994697891  enthusiasticjen   \n",
              "2      p  2191885992      LifeRemixed   \n",
              "3      p  1753662211        lovemandy   \n",
              "4      p  2177442789      _LOVELYmanu   \n",
              "\n",
              "                                                text  \\\n",
              "0  @nocturnalie Anyway, and now Abby and I share ...   \n",
              "1  @JoeGigantino Few times I'm trying to leave co...   \n",
              "2  @AngieGriffin Good Morning Angie  I'll be in t...   \n",
              "3  had a good day driving up mountains, visiting ...   \n",
              "4          downloading some songs  i love lady GaGa.   \n",
              "\n",
              "                                                 ugc  \n",
              "0  anyway and now abby and i share all our crops ...  \n",
              "1  few times I am trying to leave comments in you...  \n",
              "2  good morning angie I will be in the atl july 8...  \n",
              "3  had a good day driving up mountains visiting k...  \n",
              "4            downloading some songs i love lady gaga  "
            ],
            "text/html": [
              "\n",
              "  <div id=\"df-7f072219-9efb-4309-b32b-2539badf7cd6\">\n",
              "    <div class=\"colab-df-container\">\n",
              "      <div>\n",
              "<style scoped>\n",
              "    .dataframe tbody tr th:only-of-type {\n",
              "        vertical-align: middle;\n",
              "    }\n",
              "\n",
              "    .dataframe tbody tr th {\n",
              "        vertical-align: top;\n",
              "    }\n",
              "\n",
              "    .dataframe thead th {\n",
              "        text-align: right;\n",
              "    }\n",
              "</style>\n",
              "<table border=\"1\" class=\"dataframe\">\n",
              "  <thead>\n",
              "    <tr style=\"text-align: right;\">\n",
              "      <th></th>\n",
              "      <th>target</th>\n",
              "      <th>ids</th>\n",
              "      <th>user</th>\n",
              "      <th>text</th>\n",
              "      <th>ugc</th>\n",
              "    </tr>\n",
              "  </thead>\n",
              "  <tbody>\n",
              "    <tr>\n",
              "      <th>0</th>\n",
              "      <td>p</td>\n",
              "      <td>1978186076</td>\n",
              "      <td>ceruleanbreeze</td>\n",
              "      <td>@nocturnalie Anyway, and now Abby and I share ...</td>\n",
              "      <td>anyway and now abby and i share all our crops ...</td>\n",
              "    </tr>\n",
              "    <tr>\n",
              "      <th>1</th>\n",
              "      <td>p</td>\n",
              "      <td>1994697891</td>\n",
              "      <td>enthusiasticjen</td>\n",
              "      <td>@JoeGigantino Few times I'm trying to leave co...</td>\n",
              "      <td>few times I am trying to leave comments in you...</td>\n",
              "    </tr>\n",
              "    <tr>\n",
              "      <th>2</th>\n",
              "      <td>p</td>\n",
              "      <td>2191885992</td>\n",
              "      <td>LifeRemixed</td>\n",
              "      <td>@AngieGriffin Good Morning Angie  I'll be in t...</td>\n",
              "      <td>good morning angie I will be in the atl july 8...</td>\n",
              "    </tr>\n",
              "    <tr>\n",
              "      <th>3</th>\n",
              "      <td>p</td>\n",
              "      <td>1753662211</td>\n",
              "      <td>lovemandy</td>\n",
              "      <td>had a good day driving up mountains, visiting ...</td>\n",
              "      <td>had a good day driving up mountains visiting k...</td>\n",
              "    </tr>\n",
              "    <tr>\n",
              "      <th>4</th>\n",
              "      <td>p</td>\n",
              "      <td>2177442789</td>\n",
              "      <td>_LOVELYmanu</td>\n",
              "      <td>downloading some songs  i love lady GaGa.</td>\n",
              "      <td>downloading some songs i love lady gaga</td>\n",
              "    </tr>\n",
              "  </tbody>\n",
              "</table>\n",
              "</div>\n",
              "      <button class=\"colab-df-convert\" onclick=\"convertToInteractive('df-7f072219-9efb-4309-b32b-2539badf7cd6')\"\n",
              "              title=\"Convert this dataframe to an interactive table.\"\n",
              "              style=\"display:none;\">\n",
              "        \n",
              "  <svg xmlns=\"http://www.w3.org/2000/svg\" height=\"24px\"viewBox=\"0 0 24 24\"\n",
              "       width=\"24px\">\n",
              "    <path d=\"M0 0h24v24H0V0z\" fill=\"none\"/>\n",
              "    <path d=\"M18.56 5.44l.94 2.06.94-2.06 2.06-.94-2.06-.94-.94-2.06-.94 2.06-2.06.94zm-11 1L8.5 8.5l.94-2.06 2.06-.94-2.06-.94L8.5 2.5l-.94 2.06-2.06.94zm10 10l.94 2.06.94-2.06 2.06-.94-2.06-.94-.94-2.06-.94 2.06-2.06.94z\"/><path d=\"M17.41 7.96l-1.37-1.37c-.4-.4-.92-.59-1.43-.59-.52 0-1.04.2-1.43.59L10.3 9.45l-7.72 7.72c-.78.78-.78 2.05 0 2.83L4 21.41c.39.39.9.59 1.41.59.51 0 1.02-.2 1.41-.59l7.78-7.78 2.81-2.81c.8-.78.8-2.07 0-2.86zM5.41 20L4 18.59l7.72-7.72 1.47 1.35L5.41 20z\"/>\n",
              "  </svg>\n",
              "      </button>\n",
              "      \n",
              "  <style>\n",
              "    .colab-df-container {\n",
              "      display:flex;\n",
              "      flex-wrap:wrap;\n",
              "      gap: 12px;\n",
              "    }\n",
              "\n",
              "    .colab-df-convert {\n",
              "      background-color: #E8F0FE;\n",
              "      border: none;\n",
              "      border-radius: 50%;\n",
              "      cursor: pointer;\n",
              "      display: none;\n",
              "      fill: #1967D2;\n",
              "      height: 32px;\n",
              "      padding: 0 0 0 0;\n",
              "      width: 32px;\n",
              "    }\n",
              "\n",
              "    .colab-df-convert:hover {\n",
              "      background-color: #E2EBFA;\n",
              "      box-shadow: 0px 1px 2px rgba(60, 64, 67, 0.3), 0px 1px 3px 1px rgba(60, 64, 67, 0.15);\n",
              "      fill: #174EA6;\n",
              "    }\n",
              "\n",
              "    [theme=dark] .colab-df-convert {\n",
              "      background-color: #3B4455;\n",
              "      fill: #D2E3FC;\n",
              "    }\n",
              "\n",
              "    [theme=dark] .colab-df-convert:hover {\n",
              "      background-color: #434B5C;\n",
              "      box-shadow: 0px 1px 3px 1px rgba(0, 0, 0, 0.15);\n",
              "      filter: drop-shadow(0px 1px 2px rgba(0, 0, 0, 0.3));\n",
              "      fill: #FFFFFF;\n",
              "    }\n",
              "  </style>\n",
              "\n",
              "      <script>\n",
              "        const buttonEl =\n",
              "          document.querySelector('#df-7f072219-9efb-4309-b32b-2539badf7cd6 button.colab-df-convert');\n",
              "        buttonEl.style.display =\n",
              "          google.colab.kernel.accessAllowed ? 'block' : 'none';\n",
              "\n",
              "        async function convertToInteractive(key) {\n",
              "          const element = document.querySelector('#df-7f072219-9efb-4309-b32b-2539badf7cd6');\n",
              "          const dataTable =\n",
              "            await google.colab.kernel.invokeFunction('convertToInteractive',\n",
              "                                                     [key], {});\n",
              "          if (!dataTable) return;\n",
              "\n",
              "          const docLinkHtml = 'Like what you see? Visit the ' +\n",
              "            '<a target=\"_blank\" href=https://colab.research.google.com/notebooks/data_table.ipynb>data table notebook</a>'\n",
              "            + ' to learn more about interactive tables.';\n",
              "          element.innerHTML = '';\n",
              "          dataTable['output_type'] = 'display_data';\n",
              "          await google.colab.output.renderOutput(dataTable, element);\n",
              "          const docLink = document.createElement('div');\n",
              "          docLink.innerHTML = docLinkHtml;\n",
              "          element.appendChild(docLink);\n",
              "        }\n",
              "      </script>\n",
              "    </div>\n",
              "  </div>\n",
              "  "
            ]
          },
          "metadata": {},
          "execution_count": 7
        }
      ],
      "source": [
        "import re\n",
        "\n",
        "def preprocess_text(sentence):\n",
        "    text = re.sub('((www\\.[^\\s]+)|(https?://[^\\s]+))','', sentence['text'])\n",
        "    text = re.sub('@[^\\s]+','', text)\n",
        "    text = text.lower().split()\n",
        "    reformed = [appos[word] if word in appos else word for word in text]\n",
        "    reformed = \" \".join(reformed) \n",
        "    text = re.sub('&[^\\s]+;', '', reformed)\n",
        "    text = re.sub('[^a-zA-Zа-яА-Я1-9]+', ' ', text)\n",
        "    text = re.sub(' +',' ', text)\n",
        "    #text = re.sub(' [\\w] ', ' ', text)\n",
        "    return text.strip()\n",
        "\n",
        "preprocess = train\n",
        "preprocess['ugc'] = preprocess.apply(preprocess_text, axis=1)\n",
        "\n",
        "preprocess.head()"
      ]
    },
    {
      "cell_type": "markdown",
      "metadata": {
        "id": "CUsyZDEqK_4r"
      },
      "source": [
        "## 4. Sentiment Analysis using Deep Learning-based Method: RNN ##"
      ]
    },
    {
      "cell_type": "code",
      "execution_count": null,
      "metadata": {
        "id": "ReMymperLMAh"
      },
      "outputs": [],
      "source": [
        "from sklearn.model_selection import train_test_split\n",
        "from sklearn.metrics import classification_report\n",
        "from keras.preprocessing.text import Tokenizer\n",
        "from keras.preprocessing import sequence\n",
        "\n",
        "max_features = 4000\n",
        "#num_words = 20\n",
        "embedding_size = 256\n",
        "lstm_dim = 256\n",
        "batch_size = 64\n",
        "num_epochs = 10\n",
        "\n",
        "# Create tokenizer by converting text into sequence of integers\n",
        "tokenizer = Tokenizer(num_words=max_features, split=' ')\n",
        "tokenizer.fit_on_texts(preprocess['ugc'].values)\n",
        "\n",
        "X = tokenizer.texts_to_sequences(preprocess['ugc'].values)\n",
        "X = sequence.pad_sequences(X)\n",
        "#X = sequence.pad_sequences(X, maxlen=num_words)\n",
        "y = pd.get_dummies(preprocess['target']).values\n",
        "\n",
        "# Adding 1 because of reserved 0 index\n",
        "vocab_size = len(tokenizer.word_index) + 1"
      ]
    },
    {
      "cell_type": "code",
      "execution_count": null,
      "metadata": {
        "id": "fqZyya_Y6xhl",
        "colab": {
          "base_uri": "https://localhost:8080/"
        },
        "outputId": "44c5cbd1-51bb-45c9-f107-45b513c341a1"
      },
      "outputs": [
        {
          "output_type": "stream",
          "name": "stderr",
          "text": [
            "WARNING:tensorflow:Layer lstm will not use cuDNN kernels since it doesn't meet the criteria. It will use a generic GPU kernel as fallback when running on GPU.\n",
            "WARNING:tensorflow:Layer lstm_1 will not use cuDNN kernels since it doesn't meet the criteria. It will use a generic GPU kernel as fallback when running on GPU.\n"
          ]
        },
        {
          "output_type": "stream",
          "name": "stdout",
          "text": [
            "Model: \"sequential\"\n",
            "_________________________________________________________________\n",
            " Layer (type)                Output Shape              Param #   \n",
            "=================================================================\n",
            " embedding (Embedding)       (None, 38, 256)           1024000   \n",
            "                                                                 \n",
            " spatial_dropout1d (SpatialD  (None, 38, 256)          0         \n",
            " ropout1D)                                                       \n",
            "                                                                 \n",
            " lstm (LSTM)                 (None, 38, 256)           525312    \n",
            "                                                                 \n",
            " lstm_1 (LSTM)               (None, 128)               197120    \n",
            "                                                                 \n",
            " dense (Dense)               (None, 2)                 258       \n",
            "                                                                 \n",
            "=================================================================\n",
            "Total params: 1,746,690\n",
            "Trainable params: 1,746,690\n",
            "Non-trainable params: 0\n",
            "_________________________________________________________________\n"
          ]
        }
      ],
      "source": [
        "# Define model\n",
        "from keras import Sequential\n",
        "from keras.layers import Embedding, LSTM, Dropout, Dense, SpatialDropout1D\n",
        "\n",
        "model = Sequential()\n",
        "model.add(Embedding(input_dim=max_features,\n",
        "                    output_dim=embedding_size,\n",
        "                    input_length=X.shape[1]))\n",
        "model.add(SpatialDropout1D(0.4))\n",
        "model.add(LSTM(units=lstm_dim,\n",
        "               dropout=0.2,\n",
        "               activation='tanh',\n",
        "               recurrent_dropout=0.2,\n",
        "               recurrent_activation='sigmoid',\n",
        "               return_sequences=True))\n",
        "model.add(LSTM(units=128,\n",
        "               dropout=0.2,\n",
        "               activation='tanh',\n",
        "               recurrent_dropout=0.2,\n",
        "               recurrent_activation='sigmoid'))\n",
        "model.add(Dense(2, activation='sigmoid')) \n",
        "\n",
        "model.summary()"
      ]
    },
    {
      "cell_type": "code",
      "execution_count": null,
      "metadata": {
        "id": "HRNFpdoUN3Cw"
      },
      "outputs": [],
      "source": [
        "# Compile model\n",
        "model.compile(loss='binary_crossentropy',\n",
        "              optimizer='adam',\n",
        "              metrics=[['accuracy']])"
      ]
    },
    {
      "cell_type": "code",
      "execution_count": null,
      "metadata": {
        "id": "ogRmCK1UZhCC"
      },
      "outputs": [],
      "source": [
        "Xtrain, Xtest, ytrain, ytest = train_test_split(X, y, test_size = 0.2, shuffle=True)"
      ]
    },
    {
      "cell_type": "code",
      "execution_count": null,
      "metadata": {
        "colab": {
          "base_uri": "https://localhost:8080/"
        },
        "id": "AJ083iTdOKNo",
        "outputId": "eaf7b1cc-040a-4e3d-84eb-f8ad1e77ddf6"
      },
      "outputs": [
        {
          "output_type": "stream",
          "name": "stdout",
          "text": [
            "Epoch 1/10\n",
            "2000/2000 [==============================] - 699s 346ms/step - loss: 0.4805 - accuracy: 0.7679 - val_loss: 0.4439 - val_accuracy: 0.7926\n",
            "Epoch 2/10\n",
            "2000/2000 [==============================] - 702s 351ms/step - loss: 0.4287 - accuracy: 0.8005 - val_loss: 0.4355 - val_accuracy: 0.7964\n",
            "Epoch 3/10\n",
            "2000/2000 [==============================] - 690s 345ms/step - loss: 0.4076 - accuracy: 0.8133 - val_loss: 0.4422 - val_accuracy: 0.7967\n",
            "Epoch 4/10\n",
            "2000/2000 [==============================] - 684s 342ms/step - loss: 0.3895 - accuracy: 0.8233 - val_loss: 0.4425 - val_accuracy: 0.7979\n",
            "Epoch 5/10\n",
            "2000/2000 [==============================] - 677s 339ms/step - loss: 0.3737 - accuracy: 0.8324 - val_loss: 0.4458 - val_accuracy: 0.7996\n",
            "Epoch 6/10\n",
            "2000/2000 [==============================] - 674s 337ms/step - loss: 0.3560 - accuracy: 0.8405 - val_loss: 0.4561 - val_accuracy: 0.7929\n",
            "Epoch 7/10\n",
            "2000/2000 [==============================] - 674s 337ms/step - loss: 0.3394 - accuracy: 0.8485 - val_loss: 0.4660 - val_accuracy: 0.7936\n",
            "Epoch 8/10\n",
            "2000/2000 [==============================] - 676s 338ms/step - loss: 0.3208 - accuracy: 0.8588 - val_loss: 0.4931 - val_accuracy: 0.7899\n",
            "Epoch 9/10\n",
            "2000/2000 [==============================] - 678s 339ms/step - loss: 0.3037 - accuracy: 0.8671 - val_loss: 0.5225 - val_accuracy: 0.7865\n",
            "Epoch 10/10\n",
            "2000/2000 [==============================] - 674s 337ms/step - loss: 0.2876 - accuracy: 0.8745 - val_loss: 0.5419 - val_accuracy: 0.7852\n"
          ]
        }
      ],
      "source": [
        "# Fit model\n",
        "history = model.fit(Xtrain, ytrain, batch_size=batch_size, epochs=num_epochs, validation_data=(Xtest, ytest))"
      ]
    },
    {
      "cell_type": "code",
      "execution_count": null,
      "metadata": {
        "id": "Dft2-xIgnjCI",
        "colab": {
          "base_uri": "https://localhost:8080/"
        },
        "outputId": "d0b90103-126f-473b-af21-0a3bfc00d373"
      },
      "outputs": [
        {
          "output_type": "stream",
          "name": "stdout",
          "text": [
            "Accuracy: 78.52%\n"
          ]
        }
      ],
      "source": [
        "# Final evaluation of the model\n",
        "scores = model.evaluate(Xtest, ytest, verbose=0)\n",
        "print(\"Accuracy: %.2f%%\" % (scores[1]*100))"
      ]
    }
  ],
  "metadata": {
    "accelerator": "GPU",
    "colab": {
      "collapsed_sections": [],
      "provenance": []
    },
    "kernelspec": {
      "display_name": "Python 3",
      "language": "python",
      "name": "python3"
    },
    "language_info": {
      "codemirror_mode": {
        "name": "ipython",
        "version": 3
      },
      "file_extension": ".py",
      "mimetype": "text/x-python",
      "name": "python",
      "nbconvert_exporter": "python",
      "pygments_lexer": "ipython3",
      "version": "3.7.3"
    },
    "gpuClass": "standard"
  },
  "nbformat": 4,
  "nbformat_minor": 0
}