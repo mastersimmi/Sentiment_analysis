{
 "cells": [
  {
   "cell_type": "code",
   "execution_count": 1,
   "metadata": {
    "colab": {
     "base_uri": "https://localhost:8080/",
     "height": 122
    },
    "colab_type": "code",
    "id": "GaVIBWlyoKz3",
    "outputId": "09397fbf-902d-4115-8fcb-aeeab2b6e974"
   },
   "outputs": [
    {
     "ename": "ModuleNotFoundError",
     "evalue": "No module named 'google'",
     "output_type": "error",
     "traceback": [
      "\u001b[1;31m---------------------------------------------------------------------------\u001b[0m",
      "\u001b[1;31mModuleNotFoundError\u001b[0m                       Traceback (most recent call last)",
      "\u001b[1;32m~\\AppData\\Local\\Temp\\ipykernel_10196\\2283811226.py\u001b[0m in \u001b[0;36m<module>\u001b[1;34m\u001b[0m\n\u001b[0;32m      1\u001b[0m \u001b[1;31m### run this if using google colab to mount google drive as local storage\u001b[0m\u001b[1;33m\u001b[0m\u001b[1;33m\u001b[0m\u001b[0m\n\u001b[0;32m      2\u001b[0m \u001b[1;33m\u001b[0m\u001b[0m\n\u001b[1;32m----> 3\u001b[1;33m \u001b[1;32mfrom\u001b[0m \u001b[0mgoogle\u001b[0m\u001b[1;33m.\u001b[0m\u001b[0mcolab\u001b[0m \u001b[1;32mimport\u001b[0m \u001b[0mdrive\u001b[0m\u001b[1;33m\u001b[0m\u001b[1;33m\u001b[0m\u001b[0m\n\u001b[0m\u001b[0;32m      4\u001b[0m \u001b[1;32mimport\u001b[0m \u001b[0mos\u001b[0m\u001b[1;33m\u001b[0m\u001b[1;33m\u001b[0m\u001b[0m\n\u001b[0;32m      5\u001b[0m \u001b[0mdrive\u001b[0m\u001b[1;33m.\u001b[0m\u001b[0mmount\u001b[0m\u001b[1;33m(\u001b[0m\u001b[1;34m'/content/gdrive'\u001b[0m\u001b[1;33m)\u001b[0m\u001b[1;33m\u001b[0m\u001b[1;33m\u001b[0m\u001b[0m\n",
      "\u001b[1;31mModuleNotFoundError\u001b[0m: No module named 'google'"
     ]
    }
   ],
   "source": [
    "### run this if using google colab to mount google drive as local storage\n",
    "\n",
    "from google.colab import drive\n",
    "import os\n",
    "drive.mount('/content/gdrive')\n",
    "\n",
    "repo_path = '/content/gdrive/My Drive/colab/NLP-Bootcamp/'"
   ]
  },
  {
   "cell_type": "code",
   "execution_count": 2,
   "metadata": {
    "colab": {},
    "colab_type": "code",
    "id": "sdBgdze84r8s"
   },
   "outputs": [],
   "source": [
    "import pandas as pd\n",
    "import collections\n",
    "%matplotlib inline\n",
    "\n",
    "# Import modules to calculate accuracy and confusion matrix\n",
    "from sklearn.metrics import confusion_matrix, accuracy_score"
   ]
  },
  {
   "cell_type": "markdown",
   "metadata": {
    "colab_type": "text",
    "id": "YLttTMckfNa_"
   },
   "source": [
    "## 2. Loading Data ##"
   ]
  },
  {
   "cell_type": "code",
   "execution_count": 3,
   "metadata": {
    "colab": {
     "base_uri": "https://localhost:8080/",
     "height": 204
    },
    "colab_type": "code",
    "id": "w9EA4jMv4ywO",
    "outputId": "504c17b3-e702-4ebf-9211-b2df6cb3ebe9"
   },
   "outputs": [
    {
     "data": {
      "text/html": [
       "<div>\n",
       "<style scoped>\n",
       "    .dataframe tbody tr th:only-of-type {\n",
       "        vertical-align: middle;\n",
       "    }\n",
       "\n",
       "    .dataframe tbody tr th {\n",
       "        vertical-align: top;\n",
       "    }\n",
       "\n",
       "    .dataframe thead th {\n",
       "        text-align: right;\n",
       "    }\n",
       "</style>\n",
       "<table border=\"1\" class=\"dataframe\">\n",
       "  <thead>\n",
       "    <tr style=\"text-align: right;\">\n",
       "      <th></th>\n",
       "      <th>target</th>\n",
       "      <th>ids</th>\n",
       "      <th>user</th>\n",
       "      <th>text</th>\n",
       "    </tr>\n",
       "  </thead>\n",
       "  <tbody>\n",
       "    <tr>\n",
       "      <th>0</th>\n",
       "      <td>p</td>\n",
       "      <td>1978186076</td>\n",
       "      <td>ceruleanbreeze</td>\n",
       "      <td>@nocturnalie Anyway, and now Abby and I share ...</td>\n",
       "    </tr>\n",
       "    <tr>\n",
       "      <th>1</th>\n",
       "      <td>p</td>\n",
       "      <td>1994697891</td>\n",
       "      <td>enthusiasticjen</td>\n",
       "      <td>@JoeGigantino Few times I'm trying to leave co...</td>\n",
       "    </tr>\n",
       "    <tr>\n",
       "      <th>2</th>\n",
       "      <td>p</td>\n",
       "      <td>2191885992</td>\n",
       "      <td>LifeRemixed</td>\n",
       "      <td>@AngieGriffin Good Morning Angie  I'll be in t...</td>\n",
       "    </tr>\n",
       "    <tr>\n",
       "      <th>3</th>\n",
       "      <td>p</td>\n",
       "      <td>1753662211</td>\n",
       "      <td>lovemandy</td>\n",
       "      <td>had a good day driving up mountains, visiting ...</td>\n",
       "    </tr>\n",
       "    <tr>\n",
       "      <th>4</th>\n",
       "      <td>p</td>\n",
       "      <td>2177442789</td>\n",
       "      <td>_LOVELYmanu</td>\n",
       "      <td>downloading some songs  i love lady GaGa.</td>\n",
       "    </tr>\n",
       "  </tbody>\n",
       "</table>\n",
       "</div>"
      ],
      "text/plain": [
       "  target         ids             user  \\\n",
       "0      p  1978186076   ceruleanbreeze   \n",
       "1      p  1994697891  enthusiasticjen   \n",
       "2      p  2191885992      LifeRemixed   \n",
       "3      p  1753662211        lovemandy   \n",
       "4      p  2177442789      _LOVELYmanu   \n",
       "\n",
       "                                                text  \n",
       "0  @nocturnalie Anyway, and now Abby and I share ...  \n",
       "1  @JoeGigantino Few times I'm trying to leave co...  \n",
       "2  @AngieGriffin Good Morning Angie  I'll be in t...  \n",
       "3  had a good day driving up mountains, visiting ...  \n",
       "4          downloading some songs  i love lady GaGa.  "
      ]
     },
     "execution_count": 3,
     "metadata": {},
     "output_type": "execute_result"
    }
   ],
   "source": [
    "### run below 2 lines of code for setting train & test data path on google colab\n",
    "'''\n",
    "trainData = os.path.join(repo_path, 'data/sentiment140_160k_tweets_train.csv')\n",
    "testData = os.path.join(repo_path, 'data/sentiment140_test.csv')\n",
    "'''\n",
    "\n",
    "### run below 3 lines of code for setting train & test data path on local machine\n",
    "DATA = './data/'\n",
    "trainData = DATA + 'sentiment140_160k_tweets_train.csv'\n",
    "testData =  DATA + 'sentiment140_test.csv'\n",
    "\n",
    "train = pd.read_csv(trainData)\n",
    "test = pd.read_csv(testData)\n",
    "\n",
    "train.head()"
   ]
  },
  {
   "cell_type": "markdown",
   "metadata": {
    "colab_type": "text",
    "id": "DE0NVFR9s4o4"
   },
   "source": [
    "Looking at distribution of *'positives'* & *'negatives'* samples in train dataset "
   ]
  },
  {
   "cell_type": "code",
   "execution_count": 4,
   "metadata": {
    "colab": {
     "base_uri": "https://localhost:8080/",
     "height": 34
    },
    "colab_type": "code",
    "id": "MF2-MSXFoJkr",
    "outputId": "78cc2118-a039-4378-9e39-1e558aabf88a"
   },
   "outputs": [
    {
     "data": {
      "text/plain": [
       "Counter({'p': 80000, 'n': 79985})"
      ]
     },
     "execution_count": 4,
     "metadata": {},
     "output_type": "execute_result"
    }
   ],
   "source": [
    "collections.Counter(train['target'])"
   ]
  },
  {
   "cell_type": "code",
   "execution_count": 5,
   "metadata": {
    "colab": {
     "base_uri": "https://localhost:8080/",
     "height": 296
    },
    "colab_type": "code",
    "id": "vwyLXx_moJks",
    "outputId": "56ffdb0a-b964-4583-8773-c5dcbbf49e61"
   },
   "outputs": [
    {
     "data": {
      "text/plain": [
       "<AxesSubplot:xlabel='target'>"
      ]
     },
     "execution_count": 5,
     "metadata": {},
     "output_type": "execute_result"
    },
    {
     "data": {
      "image/png": "[encoded data removed]",
      "text/plain": [
       "<Figure size 640x480 with 1 Axes>"
      ]
     },
     "metadata": {},
     "output_type": "display_data"
    }
   ],
   "source": [
    "train.groupby('target').size().plot(kind='bar')"
   ]
  },
  {
   "cell_type": "markdown",
   "metadata": {
    "colab_type": "text",
    "id": "xyHV7gCCxCpO"
   },
   "source": [
    "We will find that it is a relatively well-balanced dataset"
   ]
  },
  {
   "cell_type": "markdown",
   "metadata": {
    "colab_type": "text",
    "id": "5RK3QPUnbUFq"
   },
   "source": [
    "## 3. Data (Text) Preprocessing ##"
   ]
  },
  {
   "cell_type": "code",
   "execution_count": 6,
   "metadata": {
    "colab": {},
    "colab_type": "code",
    "id": "N_p8SQxQMKrq"
   },
   "outputs": [],
   "source": [
    "### mapping a dictionary of apostrophe words\n",
    "\n",
    "appos = {\n",
    "\"aren't\" : \"are not\",\n",
    "\"can't\" : \"cannot\",\n",
    "\"cant\" : \"cannot\",\n",
    "\"couldn't\" : \"could not\",\n",
    "\"didn't\" : \"did not\",\n",
    "\"doesn't\" : \"does not\",\n",
    "\"don't\" : \"do not\",\n",
    "\"hadn't\" : \"had not\",\n",
    "\"hasn't\" : \"has not\",\n",
    "\"haven't\" : \"have not\",\n",
    "\"he'd\" : \"he would\",\n",
    "\"he'll\" : \"he will\",\n",
    "\"he's\" : \"he is\",\n",
    "\"i'd\" : \"I would\",\n",
    "\"i'd\" : \"I had\",\n",
    "\"i'll\" : \"I will\",\n",
    "\"i'm\" : \"I am\",\n",
    "\"im\" : \"I am\",\n",
    "\"isn't\" : \"is not\",\n",
    "\"it's\" : \"it is\",\n",
    "\"it'll\":\"it will\",\n",
    "\"i've\" : \"I have\",\n",
    "\"let's\" : \"let us\",\n",
    "\"mightn't\" : \"might not\",\n",
    "\"mustn't\" : \"must not\",\n",
    "\"shan't\" : \"shall not\",\n",
    "\"she'd\" : \"she would\",\n",
    "\"she'll\" : \"she will\",\n",
    "\"she's\" : \"she is\",\n",
    "\"shouldn't\" : \"should not\",\n",
    "\"that's\" : \"that is\",\n",
    "\"there's\" : \"there is\",\n",
    "\"they'd\" : \"they would\",\n",
    "\"they'll\" : \"they will\",\n",
    "\"they're\" : \"they are\",\n",
    "\"they've\" : \"they have\",\n",
    "\"we'd\" : \"we would\",\n",
    "\"we're\" : \"we are\",\n",
    "\"weren't\" : \"were not\",\n",
    "\"we've\" : \"we have\",\n",
    "\"what'll\" : \"what will\",\n",
    "\"what're\" : \"what are\",\n",
    "\"what's\" : \"what is\",\n",
    "\"what've\" : \"what have\",\n",
    "\"where's\" : \"where is\",\n",
    "\"who'd\" : \"who would\",\n",
    "\"who'll\" : \"who will\",\n",
    "\"who're\" : \"who are\",\n",
    "\"who's\" : \"who is\",\n",
    "\"who've\" : \"who have\",\n",
    "\"won't\" : \"will not\",\n",
    "\"wouldn't\" : \"would not\",\n",
    "\"you'd\" : \"you would\",\n",
    "\"you'll\" : \"you will\",\n",
    "\"you're\" : \"you are\",\n",
    "\"you've\" : \"you have\",\n",
    "\"'re\": \" are\",\n",
    "\"wasn't\": \"was not\",\n",
    "\"we'll\":\" will\",\n",
    "\"didn't\": \"did not\",\n",
    "\"gg\" : \"going\"\n",
    "}"
   ]
  },
  {
   "cell_type": "code",
   "execution_count": 7,
   "metadata": {
    "colab": {
     "base_uri": "https://localhost:8080/",
     "height": 204
    },
    "colab_type": "code",
    "id": "7IbqS4m-4-EX",
    "outputId": "d8eb63af-ea6f-434a-b6a4-e49b1422b4cd"
   },
   "outputs": [
    {
     "data": {
      "text/html": [
       "<div>\n",
       "<style scoped>\n",
       "    .dataframe tbody tr th:only-of-type {\n",
       "        vertical-align: middle;\n",
       "    }\n",
       "\n",
       "    .dataframe tbody tr th {\n",
       "        vertical-align: top;\n",
       "    }\n",
       "\n",
       "    .dataframe thead th {\n",
       "        text-align: right;\n",
       "    }\n",
       "</style>\n",
       "<table border=\"1\" class=\"dataframe\">\n",
       "  <thead>\n",
       "    <tr style=\"text-align: right;\">\n",
       "      <th></th>\n",
       "      <th>target</th>\n",
       "      <th>ids</th>\n",
       "      <th>user</th>\n",
       "      <th>text</th>\n",
       "      <th>ugc</th>\n",
       "    </tr>\n",
       "  </thead>\n",
       "  <tbody>\n",
       "    <tr>\n",
       "      <th>0</th>\n",
       "      <td>p</td>\n",
       "      <td>1978186076</td>\n",
       "      <td>ceruleanbreeze</td>\n",
       "      <td>@nocturnalie Anyway, and now Abby and I share ...</td>\n",
       "      <td>anyway and now abby and i share all our crops ...</td>\n",
       "    </tr>\n",
       "    <tr>\n",
       "      <th>1</th>\n",
       "      <td>p</td>\n",
       "      <td>1994697891</td>\n",
       "      <td>enthusiasticjen</td>\n",
       "      <td>@JoeGigantino Few times I'm trying to leave co...</td>\n",
       "      <td>few times I am trying to leave comments in you...</td>\n",
       "    </tr>\n",
       "    <tr>\n",
       "      <th>2</th>\n",
       "      <td>p</td>\n",
       "      <td>2191885992</td>\n",
       "      <td>LifeRemixed</td>\n",
       "      <td>@AngieGriffin Good Morning Angie  I'll be in t...</td>\n",
       "      <td>good morning angie I will be in the atl july 8...</td>\n",
       "    </tr>\n",
       "    <tr>\n",
       "      <th>3</th>\n",
       "      <td>p</td>\n",
       "      <td>1753662211</td>\n",
       "      <td>lovemandy</td>\n",
       "      <td>had a good day driving up mountains, visiting ...</td>\n",
       "      <td>had a good day driving up mountains visiting k...</td>\n",
       "    </tr>\n",
       "    <tr>\n",
       "      <th>4</th>\n",
       "      <td>p</td>\n",
       "      <td>2177442789</td>\n",
       "      <td>_LOVELYmanu</td>\n",
       "      <td>downloading some songs  i love lady GaGa.</td>\n",
       "      <td>downloading some songs i love lady gaga</td>\n",
       "    </tr>\n",
       "  </tbody>\n",
       "</table>\n",
       "</div>"
      ],
      "text/plain": [
       "  target         ids             user  \\\n",
       "0      p  1978186076   ceruleanbreeze   \n",
       "1      p  1994697891  enthusiasticjen   \n",
       "2      p  2191885992      LifeRemixed   \n",
       "3      p  1753662211        lovemandy   \n",
       "4      p  2177442789      _LOVELYmanu   \n",
       "\n",
       "                                                text  \\\n",
       "0  @nocturnalie Anyway, and now Abby and I share ...   \n",
       "1  @JoeGigantino Few times I'm trying to leave co...   \n",
       "2  @AngieGriffin Good Morning Angie  I'll be in t...   \n",
       "3  had a good day driving up mountains, visiting ...   \n",
       "4          downloading some songs  i love lady GaGa.   \n",
       "\n",
       "                                                 ugc  \n",
       "0  anyway and now abby and i share all our crops ...  \n",
       "1  few times I am trying to leave comments in you...  \n",
       "2  good morning angie I will be in the atl july 8...  \n",
       "3  had a good day driving up mountains visiting k...  \n",
       "4            downloading some songs i love lady gaga  "
      ]
     },
     "execution_count": 7,
     "metadata": {},
     "output_type": "execute_result"
    }
   ],
   "source": [
    "import re\n",
    "\n",
    "def preprocess_text(sentence):\n",
    "    text = re.sub('((www\\.[^\\s]+)|(https?://[^\\s]+))','', sentence['text'])\n",
    "    text = re.sub('@[^\\s]+','', text)\n",
    "    text = text.lower().split()\n",
    "    reformed = [appos[word] if word in appos else word for word in text]\n",
    "    reformed = \" \".join(reformed) \n",
    "    text = re.sub('&[^\\s]+;', '', reformed)\n",
    "    text = re.sub('[^a-zA-Zа-яА-Я1-9]+', ' ', text)\n",
    "    text = re.sub(' +',' ', text)\n",
    "    #text = re.sub(' [\\w] ', ' ', text)\n",
    "    return text.strip()\n",
    "\n",
    "preprocess = train\n",
    "preprocess['ugc'] = preprocess.apply(preprocess_text, axis=1)\n",
    "\n",
    "preprocess.head()"
   ]
  },
  {
   "cell_type": "markdown",
   "metadata": {
    "colab_type": "text",
    "id": "IIgTKGb6d-FM"
   },
   "source": [
    "## 4. Sentiment Analysis using Lexicon-based Method\n",
    "\n",
    "There are two types of lexicon-based sentiment analyzing approcaches - _Polarity_ and _Valence_ based.\n",
    "\n",
    "_VADER_ is a _VALENCE_ based sentiment analyzer.\n",
    "\n",
    "*Valence*-based approach taken into consideration the \"intensity\" of a word as opposed to only the polarity (+ve or -ve). For example, \"Great\" is treated as more +ve as opposed to \"Good\".\n",
    "\n",
    "References:\n",
    "http://comp.social.gatech.edu/papers/icwsm14.vader.hutto.pdf\n",
    "\n",
    "Scale for the classification model used base on compound value:\n",
    "\n",
    "1. Positive = >=0\n",
    "2. Negative = <0\n"
   ]
  },
  {
   "cell_type": "code",
   "execution_count": 8,
   "metadata": {
    "colab": {
     "base_uri": "https://localhost:8080/",
     "height": 122
    },
    "colab_type": "code",
    "id": "YLqIV4RboJke",
    "outputId": "dcf1cc5c-ee5a-4cd3-c28c-831c1c99066b"
   },
   "outputs": [
    {
     "name": "stdout",
     "output_type": "stream",
     "text": [
      "Collecting vaderSentiment\n",
      "  Downloading vaderSentiment-3.3.2-py2.py3-none-any.whl (125 kB)\n",
      "     ------------------------------------ 126.0/126.0 kB 337.3 kB/s eta 0:00:00\n",
      "Requirement already satisfied: requests in c:\\users\\92kha\\anaconda3\\lib\\site-packages (from vaderSentiment) (2.28.1)\n",
      "Requirement already satisfied: charset-normalizer<3,>=2 in c:\\users\\92kha\\anaconda3\\lib\\site-packages (from requests->vaderSentiment) (2.0.4)\n",
      "Requirement already satisfied: certifi>=2017.4.17 in c:\\users\\92kha\\anaconda3\\lib\\site-packages (from requests->vaderSentiment) (2022.9.14)\n",
      "Requirement already satisfied: urllib3<1.27,>=1.21.1 in c:\\users\\92kha\\anaconda3\\lib\\site-packages (from requests->vaderSentiment) (1.26.11)\n",
      "Requirement already satisfied: idna<4,>=2.5 in c:\\users\\92kha\\anaconda3\\lib\\site-packages (from requests->vaderSentiment) (3.3)\n",
      "Installing collected packages: vaderSentiment\n",
      "Successfully installed vaderSentiment-3.3.2\n"
     ]
    }
   ],
   "source": [
    "!pip install vaderSentiment"
   ]
  },
  {
   "cell_type": "code",
   "execution_count": 9,
   "metadata": {
    "colab": {},
    "colab_type": "code",
    "id": "SWKFFV8EeVF-"
   },
   "outputs": [],
   "source": [
    "from vaderSentiment.vaderSentiment import SentimentIntensityAnalyzer\n",
    "\n",
    "analyzer = SentimentIntensityAnalyzer()"
   ]
  },
  {
   "cell_type": "code",
   "execution_count": 10,
   "metadata": {
    "colab": {},
    "colab_type": "code",
    "id": "7dkyNuafoJkv"
   },
   "outputs": [],
   "source": [
    "def print_sentiment_scores(ugc):\n",
    "    snt = analyzer.polarity_scores(ugc['ugc'])  # Calling the polarity analyzer\n",
    "    return snt['compound']"
   ]
  },
  {
   "cell_type": "code",
   "execution_count": 11,
   "metadata": {
    "colab": {
     "base_uri": "https://localhost:8080/",
     "height": 204
    },
    "colab_type": "code",
    "id": "HPIkzZFRoJky",
    "outputId": "2437dfe5-c681-4c77-e72c-f7921f63c459"
   },
   "outputs": [
    {
     "data": {
      "text/html": [
       "<div>\n",
       "<style scoped>\n",
       "    .dataframe tbody tr th:only-of-type {\n",
       "        vertical-align: middle;\n",
       "    }\n",
       "\n",
       "    .dataframe tbody tr th {\n",
       "        vertical-align: top;\n",
       "    }\n",
       "\n",
       "    .dataframe thead th {\n",
       "        text-align: right;\n",
       "    }\n",
       "</style>\n",
       "<table border=\"1\" class=\"dataframe\">\n",
       "  <thead>\n",
       "    <tr style=\"text-align: right;\">\n",
       "      <th></th>\n",
       "      <th>target</th>\n",
       "      <th>ids</th>\n",
       "      <th>user</th>\n",
       "      <th>text</th>\n",
       "      <th>ugc</th>\n",
       "      <th>VADER</th>\n",
       "    </tr>\n",
       "  </thead>\n",
       "  <tbody>\n",
       "    <tr>\n",
       "      <th>0</th>\n",
       "      <td>p</td>\n",
       "      <td>1978186076</td>\n",
       "      <td>ceruleanbreeze</td>\n",
       "      <td>@nocturnalie Anyway, and now Abby and I share ...</td>\n",
       "      <td>anyway and now abby and i share all our crops ...</td>\n",
       "      <td>0.6361</td>\n",
       "    </tr>\n",
       "    <tr>\n",
       "      <th>1</th>\n",
       "      <td>p</td>\n",
       "      <td>1994697891</td>\n",
       "      <td>enthusiasticjen</td>\n",
       "      <td>@JoeGigantino Few times I'm trying to leave co...</td>\n",
       "      <td>few times I am trying to leave comments in you...</td>\n",
       "      <td>-0.0258</td>\n",
       "    </tr>\n",
       "    <tr>\n",
       "      <th>2</th>\n",
       "      <td>p</td>\n",
       "      <td>2191885992</td>\n",
       "      <td>LifeRemixed</td>\n",
       "      <td>@AngieGriffin Good Morning Angie  I'll be in t...</td>\n",
       "      <td>good morning angie I will be in the atl july 8...</td>\n",
       "      <td>0.4404</td>\n",
       "    </tr>\n",
       "    <tr>\n",
       "      <th>3</th>\n",
       "      <td>p</td>\n",
       "      <td>1753662211</td>\n",
       "      <td>lovemandy</td>\n",
       "      <td>had a good day driving up mountains, visiting ...</td>\n",
       "      <td>had a good day driving up mountains visiting k...</td>\n",
       "      <td>0.7717</td>\n",
       "    </tr>\n",
       "    <tr>\n",
       "      <th>4</th>\n",
       "      <td>p</td>\n",
       "      <td>2177442789</td>\n",
       "      <td>_LOVELYmanu</td>\n",
       "      <td>downloading some songs  i love lady GaGa.</td>\n",
       "      <td>downloading some songs i love lady gaga</td>\n",
       "      <td>0.6369</td>\n",
       "    </tr>\n",
       "  </tbody>\n",
       "</table>\n",
       "</div>"
      ],
      "text/plain": [
       "  target         ids             user  \\\n",
       "0      p  1978186076   ceruleanbreeze   \n",
       "1      p  1994697891  enthusiasticjen   \n",
       "2      p  2191885992      LifeRemixed   \n",
       "3      p  1753662211        lovemandy   \n",
       "4      p  2177442789      _LOVELYmanu   \n",
       "\n",
       "                                                text  \\\n",
       "0  @nocturnalie Anyway, and now Abby and I share ...   \n",
       "1  @JoeGigantino Few times I'm trying to leave co...   \n",
       "2  @AngieGriffin Good Morning Angie  I'll be in t...   \n",
       "3  had a good day driving up mountains, visiting ...   \n",
       "4          downloading some songs  i love lady GaGa.   \n",
       "\n",
       "                                                 ugc   VADER  \n",
       "0  anyway and now abby and i share all our crops ...  0.6361  \n",
       "1  few times I am trying to leave comments in you... -0.0258  \n",
       "2  good morning angie I will be in the atl july 8...  0.4404  \n",
       "3  had a good day driving up mountains visiting k...  0.7717  \n",
       "4            downloading some songs i love lady gaga  0.6369  "
      ]
     },
     "execution_count": 11,
     "metadata": {},
     "output_type": "execute_result"
    }
   ],
   "source": [
    "compound = train\n",
    "compound['VADER']=compound.apply(print_sentiment_scores, axis=1)\n",
    "\n",
    "compound.head()"
   ]
  },
  {
   "cell_type": "code",
   "execution_count": 12,
   "metadata": {
    "colab": {
     "base_uri": "https://localhost:8080/",
     "height": 34
    },
    "colab_type": "code",
    "id": "XSbUIvdwjcxp",
    "outputId": "37443950-8c9c-47c6-a0bf-eea747bde027"
   },
   "outputs": [
    {
     "ename": "KeyError",
     "evalue": "'predict'",
     "output_type": "error",
     "traceback": [
      "\u001b[1;31m---------------------------------------------------------------------------\u001b[0m",
      "\u001b[1;31mKeyError\u001b[0m                                  Traceback (most recent call last)",
      "\u001b[1;32m~\\anaconda3\\lib\\site-packages\\pandas\\core\\indexes\\base.py\u001b[0m in \u001b[0;36mget_loc\u001b[1;34m(self, key, method, tolerance)\u001b[0m\n\u001b[0;32m   3628\u001b[0m             \u001b[1;32mtry\u001b[0m\u001b[1;33m:\u001b[0m\u001b[1;33m\u001b[0m\u001b[1;33m\u001b[0m\u001b[0m\n\u001b[1;32m-> 3629\u001b[1;33m                 \u001b[1;32mreturn\u001b[0m \u001b[0mself\u001b[0m\u001b[1;33m.\u001b[0m\u001b[0m_engine\u001b[0m\u001b[1;33m.\u001b[0m\u001b[0mget_loc\u001b[0m\u001b[1;33m(\u001b[0m\u001b[0mcasted_key\u001b[0m\u001b[1;33m)\u001b[0m\u001b[1;33m\u001b[0m\u001b[1;33m\u001b[0m\u001b[0m\n\u001b[0m\u001b[0;32m   3630\u001b[0m             \u001b[1;32mexcept\u001b[0m \u001b[0mKeyError\u001b[0m \u001b[1;32mas\u001b[0m \u001b[0merr\u001b[0m\u001b[1;33m:\u001b[0m\u001b[1;33m\u001b[0m\u001b[1;33m\u001b[0m\u001b[0m\n",
      "\u001b[1;32m~\\anaconda3\\lib\\site-packages\\pandas\\_libs\\index.pyx\u001b[0m in \u001b[0;36mpandas._libs.index.IndexEngine.get_loc\u001b[1;34m()\u001b[0m\n",
      "\u001b[1;32m~\\anaconda3\\lib\\site-packages\\pandas\\_libs\\index.pyx\u001b[0m in \u001b[0;36mpandas._libs.index.IndexEngine.get_loc\u001b[1;34m()\u001b[0m\n",
      "\u001b[1;32mpandas\\_libs\\hashtable_class_helper.pxi\u001b[0m in \u001b[0;36mpandas._libs.hashtable.PyObjectHashTable.get_item\u001b[1;34m()\u001b[0m\n",
      "\u001b[1;32mpandas\\_libs\\hashtable_class_helper.pxi\u001b[0m in \u001b[0;36mpandas._libs.hashtable.PyObjectHashTable.get_item\u001b[1;34m()\u001b[0m\n",
      "\u001b[1;31mKeyError\u001b[0m: 'predict'",
      "\nThe above exception was the direct cause of the following exception:\n",
      "\u001b[1;31mKeyError\u001b[0m                                  Traceback (most recent call last)",
      "\u001b[1;32m~\\AppData\\Local\\Temp\\ipykernel_10196\\828001328.py\u001b[0m in \u001b[0;36m<module>\u001b[1;34m\u001b[0m\n\u001b[1;32m----> 1\u001b[1;33m \u001b[0mconfusion_matrix\u001b[0m\u001b[1;33m(\u001b[0m\u001b[0mcompound\u001b[0m\u001b[1;33m[\u001b[0m\u001b[1;34m'target'\u001b[0m\u001b[1;33m]\u001b[0m\u001b[1;33m,\u001b[0m \u001b[0mcompound\u001b[0m\u001b[1;33m[\u001b[0m\u001b[1;34m'predict'\u001b[0m\u001b[1;33m]\u001b[0m\u001b[1;33m)\u001b[0m\u001b[1;33m\u001b[0m\u001b[1;33m\u001b[0m\u001b[0m\n\u001b[0m\u001b[0;32m      2\u001b[0m \u001b[0maccuracy_score\u001b[0m\u001b[1;33m(\u001b[0m\u001b[0mcompound\u001b[0m\u001b[1;33m[\u001b[0m\u001b[1;34m'target'\u001b[0m\u001b[1;33m]\u001b[0m\u001b[1;33m,\u001b[0m \u001b[0mcompound\u001b[0m\u001b[1;33m[\u001b[0m\u001b[1;34m'predict'\u001b[0m\u001b[1;33m]\u001b[0m\u001b[1;33m)\u001b[0m\u001b[1;33m\u001b[0m\u001b[1;33m\u001b[0m\u001b[0m\n",
      "\u001b[1;32m~\\anaconda3\\lib\\site-packages\\pandas\\core\\frame.py\u001b[0m in \u001b[0;36m__getitem__\u001b[1;34m(self, key)\u001b[0m\n\u001b[0;32m   3503\u001b[0m             \u001b[1;32mif\u001b[0m \u001b[0mself\u001b[0m\u001b[1;33m.\u001b[0m\u001b[0mcolumns\u001b[0m\u001b[1;33m.\u001b[0m\u001b[0mnlevels\u001b[0m \u001b[1;33m>\u001b[0m \u001b[1;36m1\u001b[0m\u001b[1;33m:\u001b[0m\u001b[1;33m\u001b[0m\u001b[1;33m\u001b[0m\u001b[0m\n\u001b[0;32m   3504\u001b[0m                 \u001b[1;32mreturn\u001b[0m \u001b[0mself\u001b[0m\u001b[1;33m.\u001b[0m\u001b[0m_getitem_multilevel\u001b[0m\u001b[1;33m(\u001b[0m\u001b[0mkey\u001b[0m\u001b[1;33m)\u001b[0m\u001b[1;33m\u001b[0m\u001b[1;33m\u001b[0m\u001b[0m\n\u001b[1;32m-> 3505\u001b[1;33m             \u001b[0mindexer\u001b[0m \u001b[1;33m=\u001b[0m \u001b[0mself\u001b[0m\u001b[1;33m.\u001b[0m\u001b[0mcolumns\u001b[0m\u001b[1;33m.\u001b[0m\u001b[0mget_loc\u001b[0m\u001b[1;33m(\u001b[0m\u001b[0mkey\u001b[0m\u001b[1;33m)\u001b[0m\u001b[1;33m\u001b[0m\u001b[1;33m\u001b[0m\u001b[0m\n\u001b[0m\u001b[0;32m   3506\u001b[0m             \u001b[1;32mif\u001b[0m \u001b[0mis_integer\u001b[0m\u001b[1;33m(\u001b[0m\u001b[0mindexer\u001b[0m\u001b[1;33m)\u001b[0m\u001b[1;33m:\u001b[0m\u001b[1;33m\u001b[0m\u001b[1;33m\u001b[0m\u001b[0m\n\u001b[0;32m   3507\u001b[0m                 \u001b[0mindexer\u001b[0m \u001b[1;33m=\u001b[0m \u001b[1;33m[\u001b[0m\u001b[0mindexer\u001b[0m\u001b[1;33m]\u001b[0m\u001b[1;33m\u001b[0m\u001b[1;33m\u001b[0m\u001b[0m\n",
      "\u001b[1;32m~\\anaconda3\\lib\\site-packages\\pandas\\core\\indexes\\base.py\u001b[0m in \u001b[0;36mget_loc\u001b[1;34m(self, key, method, tolerance)\u001b[0m\n\u001b[0;32m   3629\u001b[0m                 \u001b[1;32mreturn\u001b[0m \u001b[0mself\u001b[0m\u001b[1;33m.\u001b[0m\u001b[0m_engine\u001b[0m\u001b[1;33m.\u001b[0m\u001b[0mget_loc\u001b[0m\u001b[1;33m(\u001b[0m\u001b[0mcasted_key\u001b[0m\u001b[1;33m)\u001b[0m\u001b[1;33m\u001b[0m\u001b[1;33m\u001b[0m\u001b[0m\n\u001b[0;32m   3630\u001b[0m             \u001b[1;32mexcept\u001b[0m \u001b[0mKeyError\u001b[0m \u001b[1;32mas\u001b[0m \u001b[0merr\u001b[0m\u001b[1;33m:\u001b[0m\u001b[1;33m\u001b[0m\u001b[1;33m\u001b[0m\u001b[0m\n\u001b[1;32m-> 3631\u001b[1;33m                 \u001b[1;32mraise\u001b[0m \u001b[0mKeyError\u001b[0m\u001b[1;33m(\u001b[0m\u001b[0mkey\u001b[0m\u001b[1;33m)\u001b[0m \u001b[1;32mfrom\u001b[0m \u001b[0merr\u001b[0m\u001b[1;33m\u001b[0m\u001b[1;33m\u001b[0m\u001b[0m\n\u001b[0m\u001b[0;32m   3632\u001b[0m             \u001b[1;32mexcept\u001b[0m \u001b[0mTypeError\u001b[0m\u001b[1;33m:\u001b[0m\u001b[1;33m\u001b[0m\u001b[1;33m\u001b[0m\u001b[0m\n\u001b[0;32m   3633\u001b[0m                 \u001b[1;31m# If we have a listlike key, _check_indexing_error will raise\u001b[0m\u001b[1;33m\u001b[0m\u001b[1;33m\u001b[0m\u001b[0m\n",
      "\u001b[1;31mKeyError\u001b[0m: 'predict'"
     ]
    }
   ],
   "source": [
    "confusion_matrix(compound['target'], compound['predict'])\n",
    "accuracy_score(compound['target'], compound['predict'])"
   ]
  },
  {
   "cell_type": "code",
   "execution_count": null,
   "metadata": {
    "colab": {},
    "colab_type": "code",
    "id": "qNBHyZmzoJlA"
   },
   "outputs": [],
   "source": [
    "def custom_predict(ugc):\n",
    "    snt = analyzer.polarity_scores(ugc['ugc'])  # Calling the polarity analyzer\n",
    "    if snt['neg'] > snt['pos']:\n",
    "        return 'n'\n",
    "    elif snt['pos'] > snt['neg']:\n",
    "        return 'p'\n",
    "    else:\n",
    "        return 'p'\n",
    "\n",
    "vader = train\n",
    "vader['predict']=vader.apply(custom_predict, axis=1)"
   ]
  },
  {
   "cell_type": "code",
   "execution_count": null,
   "metadata": {
    "colab": {
     "base_uri": "https://localhost:8080/",
     "height": 34
    },
    "colab_type": "code",
    "id": "AFFGWlghjFEn",
    "outputId": "ef2feb51-ffd7-40df-a099-2fb1bd25cf58"
   },
   "outputs": [],
   "source": [
    "confusion_matrix(vader['target'], vader['predict'])\n",
    "accuracy_score(vader['target'], vader['predict'])"
   ]
  },
  {
   "cell_type": "markdown",
   "metadata": {
    "colab_type": "text",
    "id": "KJMMxEVwlSve"
   },
   "source": [
    "## 5. Sentiment Analysis using Machine Learning-based Method: Naive Bayes"
   ]
  },
  {
   "cell_type": "code",
   "execution_count": null,
   "metadata": {
    "colab": {},
    "colab_type": "code",
    "id": "VZKoC2XTmL6L"
   },
   "outputs": [],
   "source": [
    "#Import feature engineering modules and test_train_split\n",
    "from sklearn.pipeline import Pipeline\n",
    "from sklearn.feature_extraction.text import CountVectorizer, TfidfTransformer, TfidfVectorizer\n",
    "from sklearn.model_selection import train_test_split, GridSearchCV\n",
    "\n",
    "#Import classification algorithm\n",
    "from sklearn.naive_bayes import MultinomialNB\n",
    "from sklearn.svm import SVC\n",
    "from sklearn.svm import LinearSVC\n",
    "from sklearn.tree import DecisionTreeClassifier\n",
    "from sklearn.ensemble import RandomForestClassifier\n",
    "from sklearn.ensemble import ExtraTreesClassifier\n",
    "from xgboost import XGBClassifier\n",
    "\n",
    "#Import modules to calculate accuracy and confusion matrix\n",
    "from sklearn.metrics import confusion_matrix, accuracy_score\n",
    "from sklearn.metrics import classification_report"
   ]
  },
  {
   "cell_type": "markdown",
   "metadata": {
    "colab_type": "text",
    "id": "rcHkF86B1os5"
   },
   "source": [
    "Naive Bayes with TF-IDF on original text data"
   ]
  },
  {
   "cell_type": "code",
   "execution_count": null,
   "metadata": {
    "colab": {
     "base_uri": "https://localhost:8080/",
     "height": 221
    },
    "colab_type": "code",
    "id": "VOZ1ylYkoJlN",
    "outputId": "93408788-e0f5-4a6a-f479-d7fe546514af"
   },
   "outputs": [],
   "source": [
    "tv = TfidfVectorizer(ngram_range=(1,3),max_features=20000,stop_words='english') \n",
    "X = tv.fit_transform(train['text'])\n",
    "\n",
    "Xtrain, Xtest, ytrain, ytest = train_test_split(X, train['target'],\n",
    "                                               test_size = 0.2, shuffle=True)\n",
    "\n",
    "nb = MultinomialNB(alpha=6.5, fit_prior=False)\n",
    "nb.fit(Xtrain,ytrain)\n",
    "pred = nb.predict(Xtest)\n",
    "\n",
    "print(accuracy_score(ytest,pred))\n",
    "print(confusion_matrix(ytest,pred))\n",
    "print(classification_report(ytest,pred))"
   ]
  },
  {
   "cell_type": "markdown",
   "metadata": {
    "colab_type": "text",
    "id": "kVBTTDSF2EdH"
   },
   "source": [
    "Naive Bayes with TF-IDF on pre-processed text data - achieved very minimal accuracy improvement"
   ]
  },
  {
   "cell_type": "code",
   "execution_count": null,
   "metadata": {
    "colab": {
     "base_uri": "https://localhost:8080/",
     "height": 221
    },
    "colab_type": "code",
    "id": "-d47IpXgy778",
    "outputId": "e34e3f01-480e-47c2-d537-9a2a5339785b"
   },
   "outputs": [],
   "source": [
    "tv = TfidfVectorizer(ngram_range=(1,3),max_features=20000,stop_words='english') \n",
    "X = tv.fit_transform(preprocess['ugc'])\n",
    "\n",
    "Xtrain, Xtest, ytrain, ytest = train_test_split(X, preprocess['target'],\n",
    "                                               test_size = 0.2, shuffle=True)\n",
    "\n",
    "nb = MultinomialNB(alpha=6.5, fit_prior=False)\n",
    "nb.fit(Xtrain,ytrain)\n",
    "pred = nb.predict(Xtest)\n",
    "\n",
    "print(accuracy_score(ytest,pred))\n",
    "print(confusion_matrix(ytest,pred))\n",
    "print(classification_report(ytest,pred))"
   ]
  },
  {
   "cell_type": "markdown",
   "metadata": {
    "colab_type": "text",
    "id": "9DA7VwiTx1Jl"
   },
   "source": [
    "Naive Bayes with Grid Search Hyperparameter Tuning & 10-Fold Cross Validation - achieving higher accuracy over the mdoel without hyperparameter tuning "
   ]
  },
  {
   "cell_type": "code",
   "execution_count": null,
   "metadata": {
    "colab": {},
    "colab_type": "code",
    "id": "O3ZhKLhuwACL"
   },
   "outputs": [],
   "source": [
    "text_clf = Pipeline([('vect', CountVectorizer()),\n",
    "                     ('tfidf', TfidfTransformer()),\n",
    "                     ('clf', MultinomialNB())])\n",
    "tuned_parameters = {\n",
    "    'vect__ngram_range': [(1, 1), (1, 2), (2, 2)],\n",
    "    'tfidf__use_idf': (True, False),\n",
    "    'tfidf__norm': ('l1', 'l2'),\n",
    "    'clf__alpha': [1, 1e-1, 1e-2]\n",
    "}"
   ]
  },
  {
   "cell_type": "code",
   "execution_count": null,
   "metadata": {
    "colab": {},
    "colab_type": "code",
    "id": "lfDagPpA2pm2"
   },
   "outputs": [],
   "source": [
    "x_train, x_test, y_train, y_test = train_test_split(train['text'], train['target'],\n",
    "                                               test_size = 0.2, shuffle=True)"
   ]
  },
  {
   "cell_type": "code",
   "execution_count": null,
   "metadata": {
    "colab": {
     "base_uri": "https://localhost:8080/",
     "height": 221
    },
    "colab_type": "code",
    "id": "JeQV2DTR2wsM",
    "outputId": "e034bf72-4d2b-41b9-ca73-6085f80b202c"
   },
   "outputs": [],
   "source": [
    "from sklearn.metrics import classification_report\n",
    "clf = GridSearchCV(text_clf, tuned_parameters, cv=10)\n",
    "clf.fit(x_train, y_train)\n",
    "\n",
    "print(classification_report(y_test, clf.predict(x_test), digits=4))\n",
    "print(accuracy_score(y_test, clf.predict(x_test)))\n",
    "print(confusion_matrix(y_test, clf.predict(x_test)))"
   ]
  },
  {
   "cell_type": "code",
   "execution_count": null,
   "metadata": {
    "colab": {},
    "colab_type": "code",
    "id": "XA9m-gjwBfhO"
   },
   "outputs": [],
   "source": [
    "# x_train, x_test, y_train, y_test = train_test_split(data, labels, test_size=0.2, random_state=42)\n",
    "x_train, x_test, y_train, y_test = train_test_split(preprocess['ugc'], preprocess['target'],\n",
    "                                               test_size = 0.2, shuffle=True)"
   ]
  },
  {
   "cell_type": "code",
   "execution_count": null,
   "metadata": {
    "colab": {
     "base_uri": "https://localhost:8080/",
     "height": 221
    },
    "colab_type": "code",
    "id": "wWyKpRyRwZ9v",
    "outputId": "8c442c6d-fae4-451c-d1e7-f9ab90ecb929"
   },
   "outputs": [],
   "source": [
    "from sklearn.metrics import classification_report\n",
    "clf = GridSearchCV(text_clf, tuned_parameters, cv=10)\n",
    "clf.fit(x_train, y_train)\n",
    "\n",
    "print(classification_report(y_test, clf.predict(x_test), digits=4))\n",
    "print(accuracy_score(y_test, clf.predict(x_test)))\n",
    "print(confusion_matrix(y_test, clf.predict(x_test)))"
   ]
  },
  {
   "cell_type": "code",
   "execution_count": null,
   "metadata": {
    "colab": {
     "base_uri": "https://localhost:8080/",
     "height": 51
    },
    "colab_type": "code",
    "id": "9CIcLBrZOGAV",
    "outputId": "9e4f6a6e-1e01-48f5-bbf1-3dc02d16a86d"
   },
   "outputs": [],
   "source": [
    "print(\"Best Score: \", clf.best_score_)\n",
    "print(\"Best Params: \", clf.best_params_)"
   ]
  },
  {
   "cell_type": "code",
   "execution_count": null,
   "metadata": {
    "colab": {
     "base_uri": "https://localhost:8080/",
     "height": 54
    },
    "colab_type": "code",
    "id": "Z3gTB914oCOi",
    "outputId": "f8115d58-d462-4562-8d34-a02d239456f2"
   },
   "outputs": [],
   "source": [
    "from google.colab import files ### remove this line of code if not using colab\n",
    "\n",
    "test['ugc'] = test.apply(preprocess_text, axis=1)\n",
    "y_kaggle = clf.predict((test['ugc']))\n",
    "test['target'] = pd.DataFrame(y_kaggle.tolist())\n",
    "test[['target', 'ids']].to_csv(\"nb_submission.csv\", index=False)\n",
    "\n",
    "files.download('nb_submission.csv') ### remove this line of code if not using colab\n"
   ]
  },
  {
   "cell_type": "code",
   "execution_count": null,
   "metadata": {
    "colab": {
     "base_uri": "https://localhost:8080/",
     "height": 221
    },
    "colab_type": "code",
    "id": "AKv-eAiCCVrr",
    "outputId": "4977d6d7-68d3-4284-c8ff-2ddde3643a7d"
   },
   "outputs": [],
   "source": [
    "from sklearn.metrics import classification_report\n",
    "clf = GridSearchCV(text_clf, tuned_parameters, cv=10)\n",
    "clf.fit(x_train, y_train)\n",
    "\n",
    "print(classification_report(y_test, clf.predict(x_test), digits=4))\n",
    "print(accuracy_score(y_test, clf.predict(x_test)))\n",
    "print(confusion_matrix(y_test, clf.predict(x_test)))"
   ]
  },
  {
   "cell_type": "markdown",
   "metadata": {
    "colab_type": "text",
    "id": "5qQipVBPD4an"
   },
   "source": [
    "## 6. Sentiment Analysis using Machine Learning-based Method: Linear SVM ##\n",
    "with Grid Search Hyperparameter Tuning & 10-Fold Cross Validation"
   ]
  },
  {
   "cell_type": "code",
   "execution_count": null,
   "metadata": {
    "colab": {},
    "colab_type": "code",
    "id": "o0_tbWb-VxDD"
   },
   "outputs": [],
   "source": [
    "text_clf = Pipeline([('vect', CountVectorizer()),\n",
    "                     ('tfidf', TfidfTransformer()),\n",
    "                     ('clf', LinearSVC())])\n",
    "tuned_parameters = {\n",
    "    'vect__ngram_range': [(1, 2), (1, 3), (1, 4)],\n",
    "    'tfidf__use_idf': (True, False),\n",
    "    #'tfidf__norm': ('l1', 'l2'),\n",
    "    'clf__tol': [1, 1e-1, 1e-2, 1e-3]\n",
    "}"
   ]
  },
  {
   "cell_type": "code",
   "execution_count": null,
   "metadata": {
    "colab": {},
    "colab_type": "code",
    "id": "28O0StJlXkeF"
   },
   "outputs": [],
   "source": [
    "x_train, x_test, y_train, y_test = train_test_split(preprocess['ugc'], preprocess['target'],\n",
    "                                               test_size = 0.2, shuffle=True)"
   ]
  },
  {
   "cell_type": "code",
   "execution_count": null,
   "metadata": {
    "colab": {
     "base_uri": "https://localhost:8080/",
     "height": 255
    },
    "colab_type": "code",
    "id": "Av0cZhk0XwAj",
    "outputId": "9ba907ca-4765-4b60-97ed-cc9558273fe8"
   },
   "outputs": [],
   "source": [
    "clf = GridSearchCV(text_clf, tuned_parameters, cv=10)\n",
    "clf.fit(x_train, y_train)\n",
    "\n",
    "print(classification_report(y_test, clf.predict(x_test), digits=4))\n",
    "print(accuracy_score(y_test, clf.predict(x_test)))\n",
    "print(confusion_matrix(y_test, clf.predict(x_test)))\n",
    "\n",
    "print(\"Best Score: \", clf.best_score_)\n",
    "print(\"Best Params: \", clf.best_params_)"
   ]
  },
  {
   "cell_type": "code",
   "execution_count": null,
   "metadata": {
    "colab": {},
    "colab_type": "code",
    "id": "aCpfQMf-wrUd"
   },
   "outputs": [],
   "source": [
    "from google.colab import files ### remove this line of code if not using colab\n",
    "\n",
    "test['ugc'] = test.apply(preprocess_text, axis=1)\n",
    "y_kaggle = clf.predict((test['ugc']))\n",
    "test['target'] = pd.DataFrame(y_kaggle.tolist())\n",
    "test[['target', 'ids']].to_csv(\"l_svm_submission.csv\", index=False)\n",
    "\n",
    "files.download('l_svm_submission.csv') ### remove this line of code if not using colab"
   ]
  },
  {
   "cell_type": "markdown",
   "metadata": {
    "colab_type": "text",
    "id": "0vCs98OVEgj0"
   },
   "source": [
    "## 7. Sentiment Analysis using Machine Learning-based Method: XGBoost"
   ]
  },
  {
   "cell_type": "code",
   "execution_count": null,
   "metadata": {
    "colab": {
     "base_uri": "https://localhost:8080/",
     "height": 68
    },
    "colab_type": "code",
    "id": "yUevtH9biAdO",
    "outputId": "43edaf78-25e9-4591-ef33-25ccda630185"
   },
   "outputs": [],
   "source": [
    "!pip install xgboost"
   ]
  },
  {
   "cell_type": "code",
   "execution_count": null,
   "metadata": {
    "colab": {},
    "colab_type": "code",
    "id": "cb0xoyjMHIS-"
   },
   "outputs": [],
   "source": [
    "tv = TfidfVectorizer(ngram_range=(1,2), max_features=20000, stop_words='english', min_df=.0025, max_df=0.25) \n",
    "X = tv.fit_transform(preprocess['ugc'])\n",
    "\n",
    "x_train, x_test, y_train, y_test = train_test_split(X, preprocess['target'],\n",
    "                                               test_size = 0.2, shuffle=True)"
   ]
  },
  {
   "cell_type": "code",
   "execution_count": null,
   "metadata": {
    "colab": {},
    "colab_type": "code",
    "id": "y-eBkJV_O-l3"
   },
   "outputs": [],
   "source": [
    "xgb = XGBClassifier(max_depth=10, n_estimators=400, learning_rate=0.3, objective='binary:logistic')\n",
    "xgb.fit(x_train, y_train)\n",
    "pred = xgb.predict(x_test)"
   ]
  },
  {
   "cell_type": "code",
   "execution_count": null,
   "metadata": {
    "colab": {
     "base_uri": "https://localhost:8080/",
     "height": 221
    },
    "colab_type": "code",
    "id": "GRMCIceRPLww",
    "outputId": "0ec2ce37-0d8c-43e8-cfa1-2aad0daa6f51"
   },
   "outputs": [],
   "source": [
    "print(accuracy_score(y_test, pred))\n",
    "print(confusion_matrix(y_test, pred))\n",
    "print(classification_report(y_test, pred))"
   ]
  },
  {
   "cell_type": "markdown",
   "metadata": {
    "colab_type": "text",
    "id": "vDT1ONw8GvGU"
   },
   "source": [
    "## 8. Sentiment Analysis using Machine Learning-based Method: Decision Tree"
   ]
  },
  {
   "cell_type": "code",
   "execution_count": null,
   "metadata": {
    "colab": {},
    "colab_type": "code",
    "id": "_icbqVaYLQeT"
   },
   "outputs": [],
   "source": [
    "tv = TfidfVectorizer(ngram_range=(1,2), max_features=20000, stop_words='english') \n",
    "X = tv.fit_transform(preprocess['ugc'])\n",
    "\n",
    "x_train, x_test, y_train, y_test = train_test_split(X, preprocess['target'],\n",
    "                                               test_size = 0.2, shuffle=True)"
   ]
  },
  {
   "cell_type": "code",
   "execution_count": null,
   "metadata": {
    "colab": {},
    "colab_type": "code",
    "id": "IFqeKcrd1KRu"
   },
   "outputs": [],
   "source": [
    "dt = DecisionTreeClassifier()\n",
    "dt.fit(Xtrain,ytrain)\n",
    "pred = dt.predict(Xtest)"
   ]
  },
  {
   "cell_type": "code",
   "execution_count": null,
   "metadata": {
    "colab": {
     "base_uri": "https://localhost:8080/",
     "height": 221
    },
    "colab_type": "code",
    "id": "2uKqWWPGKVGX",
    "outputId": "d9d047af-a7df-461b-819b-28173405f15c"
   },
   "outputs": [],
   "source": [
    "print(accuracy_score(ytest,pred))\n",
    "print(confusion_matrix(ytest,pred))\n",
    "print(classification_report(ytest,pred))"
   ]
  },
  {
   "cell_type": "markdown",
   "metadata": {
    "colab_type": "text",
    "id": "2OGMG6dFHSKG"
   },
   "source": [
    "## 9. Sentiment Analysis using Machine Learning-based Method: Random Forest"
   ]
  },
  {
   "cell_type": "code",
   "execution_count": null,
   "metadata": {
    "colab": {
     "base_uri": "https://localhost:8080/",
     "height": 51
    },
    "colab_type": "code",
    "id": "LJT0_fUHL4Lo",
    "outputId": "02e908a9-e90c-4c00-d456-07507ba37942"
   },
   "outputs": [],
   "source": [
    "rf = RandomForestClassifier()\n",
    "rf.fit(Xtrain,ytrain)\n",
    "pred = rf.predict(Xtest)"
   ]
  },
  {
   "cell_type": "code",
   "execution_count": null,
   "metadata": {
    "colab": {},
    "colab_type": "code",
    "id": "vqXkCshsY90j"
   },
   "outputs": [],
   "source": [
    "print(accuracy_score(ytest,pred))\n",
    "print(confusion_matrix(ytest,pred))\n",
    "print(classification_report(ytest,pred))"
   ]
  },
  {
   "cell_type": "markdown",
   "metadata": {
    "colab_type": "text",
    "id": "ytm58FehYBbL"
   },
   "source": [
    "## 10. Sentiment Analysis using Machine Learning-based Method: Extra Trees"
   ]
  },
  {
   "cell_type": "code",
   "execution_count": null,
   "metadata": {
    "colab": {
     "base_uri": "https://localhost:8080/",
     "height": 51
    },
    "colab_type": "code",
    "id": "z_8pboH8Me3c",
    "outputId": "09570b9a-82ce-4d92-f731-f2d0582155c4"
   },
   "outputs": [],
   "source": [
    "etc=ExtraTreesClassifier()\n",
    "etc.fit(Xtrain,ytrain)\n",
    "pred=etc.predict(Xtest)"
   ]
  },
  {
   "cell_type": "code",
   "execution_count": null,
   "metadata": {
    "colab": {
     "base_uri": "https://localhost:8080/",
     "height": 221
    },
    "colab_type": "code",
    "id": "hU6sMYxsMaOh",
    "outputId": "28325a29-8551-4e1f-ffab-95ab61e3cf09"
   },
   "outputs": [],
   "source": [
    "print(accuracy_score(ytest,pred))\n",
    "print(confusion_matrix(ytest,pred))\n",
    "print(classification_report(ytest,pred))"
   ]
  },
  {
   "cell_type": "markdown",
   "metadata": {
    "colab_type": "text",
    "id": "HzAOiTWffpxS"
   },
   "source": [
    "## 11. Sentiment Analysis using Machine Learning-based Method: SVC ##\n",
    "\n",
    "_Warning - approximately 3hrs of processing_ "
   ]
  },
  {
   "cell_type": "code",
   "execution_count": null,
   "metadata": {
    "colab": {},
    "colab_type": "code",
    "id": "X9Un47UTfo4c"
   },
   "outputs": [],
   "source": [
    "#Import feature engineering modules and test_train_split\n",
    "from sklearn.feature_extraction.text import TfidfVectorizer\n",
    "from sklearn.model_selection import train_test_split\n",
    "from sklearn.metrics import classification_report\n",
    "\n",
    "tv = TfidfVectorizer(ngram_range=(1,3)) \n",
    "X = tv.fit_transform(preprocess['ugc'])\n",
    "\n",
    "Xtrain, Xtest, ytrain, ytest = train_test_split(X, preprocess['target'],\n",
    "                                               test_size = 0.2, shuffle=True)"
   ]
  },
  {
   "cell_type": "code",
   "execution_count": null,
   "metadata": {
    "colab": {},
    "colab_type": "code",
    "id": "bUPQDM0cgU87",
    "outputId": "5e765f81-b921-4c3f-a31b-11c5d1753af5"
   },
   "outputs": [],
   "source": [
    "from sklearn.svm import SVC\n",
    "\n",
    "svm = SVC(kernel='linear')\n",
    "svm.fit(Xtrain,ytrain)\n",
    "pred = svm.predict(Xtest)\n",
    "\n",
    "print(accuracy_score(ytest,pred))\n",
    "print(confusion_matrix(ytest,pred))\n",
    "print(classification_report(ytest,pred))"
   ]
  },
  {
   "cell_type": "code",
   "execution_count": null,
   "metadata": {
    "colab": {},
    "colab_type": "code",
    "id": "x-vIIA5lhPz3"
   },
   "outputs": [],
   "source": [
    "# Uncomment and run below line of code if using google colab\n",
    "# from google.colab import files\n",
    "\n",
    "test['ugc'] = test.apply(preprocess_text, axis=1)\n",
    "y_kaggle = svm.predict(tv.transform(test['ugc']))\n",
    "test['target'] = pd.DataFrame(y_kaggle.tolist())\n",
    "test[['target', 'ids']].to_csv(\"svc_submission.csv\", index=False)\n",
    "\n",
    "# Uncommon and run below line of code if using google colab \n",
    "# files.download('svc_submission.csv')"
   ]
  },
  {
   "cell_type": "markdown",
   "metadata": {
    "colab_type": "text",
    "id": "mRVAAJPcc7-B"
   },
   "source": [
    "## Further - Text Preprocessing: Porter Stemmer ##"
   ]
  },
  {
   "cell_type": "code",
   "execution_count": null,
   "metadata": {
    "colab": {},
    "colab_type": "code",
    "id": "AoKwyd006Srm"
   },
   "outputs": [],
   "source": [
    "import nltk\n",
    "from nltk.tokenize import sent_tokenize, word_tokenize\n",
    "from nltk.stem import PorterStemmer\n",
    "from nltk.stem import LancasterStemmer\n",
    "\n",
    "#nltk.download('punkt') \n",
    "\n",
    "#create an object of class PorterStemmer\n",
    "porter = PorterStemmer()\n",
    "lancaster=LancasterStemmer()\n"
   ]
  },
  {
   "cell_type": "code",
   "execution_count": null,
   "metadata": {
    "colab": {
     "base_uri": "https://localhost:8080/",
     "height": 204
    },
    "colab_type": "code",
    "id": "1uQb561z5ifl",
    "outputId": "ffd2f791-d728-48da-c526-24e1962d2ecd"
   },
   "outputs": [],
   "source": [
    "def stemSentence(sentence):\n",
    "    token_words = word_tokenize(sentence['ugc'])\n",
    "    stem_sentence = []\n",
    "    for word in token_words:\n",
    "        stem_sentence.append(porter.stem(word))\n",
    "        stem_sentence.append(\" \")\n",
    "    return \"\".join(stem_sentence)\n",
    "  \n",
    "preprocess['stem'] = preprocess.apply(stemSentence, axis=1)\n",
    "preprocess.head()"
   ]
  },
  {
   "cell_type": "markdown",
   "metadata": {
    "colab_type": "text",
    "id": "MyeZzFgdoJla"
   },
   "source": [
    "## Sentiment Analysis using Support Vector Machine, SVM with GridSearch (Machine Learning-Based)"
   ]
  },
  {
   "cell_type": "code",
   "execution_count": null,
   "metadata": {
    "colab": {},
    "colab_type": "code",
    "id": "t9QuBe2moJlc"
   },
   "outputs": [],
   "source": [
    "from sklearn.model_selection import GridSearchCV\n",
    "import numpy as np\n",
    "# specify parameters to search & test for\n",
    "parameters = {'fit_prior':(True, False), 'alpha': np.linspace(0.5, 15.5)}"
   ]
  },
  {
   "cell_type": "code",
   "execution_count": null,
   "metadata": {
    "colab": {
     "base_uri": "https://localhost:8080/",
     "height": 289
    },
    "colab_type": "code",
    "id": "2_sx3YSVoJld",
    "outputId": "76108fa9-eb6f-4daa-df95-78b0d6a86967"
   },
   "outputs": [],
   "source": [
    "nb=MultinomialNB()\n",
    "clf = GridSearchCV(nb, parameters, cv=5)\n",
    "clf.fit(Xtrain,ytrain)     "
   ]
  },
  {
   "cell_type": "code",
   "execution_count": null,
   "metadata": {
    "colab": {
     "base_uri": "https://localhost:8080/",
     "height": 51
    },
    "colab_type": "code",
    "id": "th0XZUWToJlf",
    "outputId": "2fd01d47-1365-4680-a1bb-31a7313bebb8"
   },
   "outputs": [],
   "source": [
    "print(\"Best Score: \", clf.best_score_)\n",
    "print(\"Best Params: \", clf.best_params_)"
   ]
  },
  {
   "cell_type": "code",
   "execution_count": null,
   "metadata": {
    "colab": {
     "base_uri": "https://localhost:8080/",
     "height": 221
    },
    "colab_type": "code",
    "id": "-zgINBxZSUav",
    "outputId": "f857ffaa-8efa-4f8e-d638-c3eea3dc9228"
   },
   "outputs": [],
   "source": [
    "l_svm = LinearSVC()\n",
    "l_svm.fit(Xtrain,ytrain)\n",
    "pred=l_svm.predict(Xtest)\n",
    "\n",
    "print(accuracy_score(ytest,pred))\n",
    "print(confusion_matrix(ytest,pred))\n",
    "print(classification_report(ytest,pred))"
   ]
  },
  {
   "cell_type": "code",
   "execution_count": null,
   "metadata": {
    "colab": {},
    "colab_type": "code",
    "id": "22mrTytMSqiL"
   },
   "outputs": [],
   "source": [
    "parameters = {'C': np.linspace(1, 10), 'fit_intercept':(True, False)}"
   ]
  },
  {
   "cell_type": "code",
   "execution_count": 0,
   "metadata": {
    "colab": {
     "base_uri": "https://localhost:8080/",
     "height": 51
    },
    "colab_type": "code",
    "id": "JlnbCk8dTZw2",
    "outputId": "62faa6bf-537d-4dc3-9636-186143c3f01b"
   },
   "outputs": [
    {
     "name": "stdout",
     "output_type": "stream",
     "text": [
      "Best Score:  0.7472731818607995\n",
      "Best Params:  {'C': 1.0, 'fit_intercept': True}\n"
     ]
    }
   ],
   "source": [
    "l_svm = LinearSVC()\n",
    "clf = GridSearchCV(l_svm, parameters, cv=5)\n",
    "clf.fit(Xtrain,ytrain)\n",
    "\n",
    "print(\"Best Score: \", clf.best_score_)\n",
    "print(\"Best Params: \", clf.best_params_)"
   ]
  }
 ],
 "metadata": {
  "accelerator": "GPU",
  "colab": {
   "collapsed_sections": [],
   "name": "SentimentAnalysis.ipynb",
   "provenance": [],
   "version": "0.3.2"
  },
  "kernelspec": {
   "display_name": "Python 3 (ipykernel)",
   "language": "python",
   "name": "python3"
  },
  "language_info": {
   "codemirror_mode": {
    "name": "ipython",
    "version": 3
   },
   "file_extension": ".py",
   "mimetype": "text/x-python",
   "name": "python",
   "nbconvert_exporter": "python",
   "pygments_lexer": "ipython3",
   "version": "3.9.13"
  }
 },
 "nbformat": 4,
 "nbformat_minor": 1
}
